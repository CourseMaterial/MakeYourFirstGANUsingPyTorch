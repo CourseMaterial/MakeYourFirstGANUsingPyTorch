{
 "cells": [
  {
   "cell_type": "markdown",
   "metadata": {
    "colab_type": "text",
    "id": "Ru5DFA0hWB0X"
   },
   "source": [
    "# Appendix B - Generating Images From A Probability Distribution\n",
    "\n",
    "Make Your First GAN With PyTorch, 2020"
   ]
  },
  {
   "cell_type": "code",
   "execution_count": 1,
   "metadata": {
    "colab": {},
    "colab_type": "code",
    "id": "WjY6jMhhaXgE"
   },
   "outputs": [],
   "source": [
    "import random\n",
    "import numpy\n",
    "import matplotlib.pyplot as plt"
   ]
  },
  {
   "cell_type": "code",
   "execution_count": 2,
   "metadata": {
    "colab": {
     "base_uri": "https://localhost:8080/",
     "height": 286
    },
    "colab_type": "code",
    "id": "hVEapqKVag2g",
    "outputId": "bb3ef932-a966-409f-b51c-afbdcfbac2a2"
   },
   "outputs": [
    {
     "data": {
      "text/plain": [
       "<matplotlib.image.AxesImage at 0x118f7f610>"
      ]
     },
     "execution_count": 2,
     "metadata": {},
     "output_type": "execute_result"
    },
    {
     "data": {
      "image/png": "[encoded data removed]",
      "text/plain": [
       "<Figure size 432x288 with 1 Axes>"
      ]
     },
     "metadata": {
      "needs_background": "light"
     },
     "output_type": "display_data"
    }
   ],
   "source": [
    "# counts are the observed number of coloured pixels at each position from a dataset of 8 examples\n",
    "\n",
    "counts = numpy.array([[6,0,1],\n",
    "                             [0,7,0],\n",
    "                             [2,0,1]], dtype=float)\n",
    "\n",
    "plt.imshow(counts, cmap='Reds', interpolation=None)"
   ]
  },
  {
   "cell_type": "code",
   "execution_count": 3,
   "metadata": {
    "colab": {
     "base_uri": "https://localhost:8080/",
     "height": 68
    },
    "colab_type": "code",
    "id": "ojaVgW2ia3HY",
    "outputId": "3b0cd7cf-44e8-4089-c970-6f991f788c78"
   },
   "outputs": [
    {
     "data": {
      "text/plain": [
       "array([[0.75 , 0.   , 0.125],\n",
       "       [0.   , 0.875, 0.   ],\n",
       "       [0.25 , 0.   , 0.125]])"
      ]
     },
     "execution_count": 3,
     "metadata": {},
     "output_type": "execute_result"
    }
   ],
   "source": [
    "# probabilities are (counts) / (total possible)\n",
    "\n",
    "probabilities = counts/8\n",
    "probabilities"
   ]
  },
  {
   "cell_type": "code",
   "execution_count": 4,
   "metadata": {
    "colab": {
     "base_uri": "https://localhost:8080/",
     "height": 286
    },
    "colab_type": "code",
    "id": "YvtdBCE9gd4L",
    "outputId": "bec32fdc-e3c6-4ddc-fdf4-ed4864be9f25"
   },
   "outputs": [
    {
     "data": {
      "text/plain": [
       "<matplotlib.image.AxesImage at 0x11900b940>"
      ]
     },
     "execution_count": 4,
     "metadata": {},
     "output_type": "execute_result"
    },
    {
     "data": {
      "image/png": "[encoded data removed]",
      "text/plain": [
       "<Figure size 432x288 with 1 Axes>"
      ]
     },
     "metadata": {
      "needs_background": "light"
     },
     "output_type": "display_data"
    }
   ],
   "source": [
    "# make image of 0's and 1's with proabilities\n",
    "\n",
    "r = numpy.random.uniform(size=(3,3))\n",
    "diff = probabilities - r\n",
    "img = numpy.ceil(diff)\n",
    "\n",
    "plt.imshow(img, cmap='Blues', interpolation=None)"
   ]
  },
  {
   "cell_type": "code",
   "execution_count": 5,
   "metadata": {
    "colab": {
     "base_uri": "https://localhost:8080/",
     "height": 469
    },
    "colab_type": "code",
    "id": "PDj1pA_vbxCJ",
    "outputId": "dec6585a-f69a-41e1-9dff-b9a322448fbf"
   },
   "outputs": [
    {
     "data": {
      "image/png": "[encoded data removed]",
      "text/plain": [
       "<Figure size 864x576 with 24 Axes>"
      ]
     },
     "metadata": {},
     "output_type": "display_data"
    }
   ],
   "source": [
    "# plot several outputs each samples against probabilies\n",
    "\n",
    "# plot a 6 column, 4 row array of images\n",
    "f, axarr = plt.subplots(4, 6, figsize=(12,8))\n",
    "for i in range(4):\n",
    "    for j in range(6):\n",
    "        r = numpy.random.uniform(size=(3,3))\n",
    "        diff = probabilities-r\n",
    "        img = numpy.ceil(diff)\n",
    "        axarr[i,j].set_xticks([])\n",
    "        axarr[i,j].set_yticks([])\n",
    "        axarr[i,j].imshow(img, interpolation='none', cmap='Blues')\n",
    "        pass\n",
    "    pass"
   ]
  }
 ],
 "metadata": {
  "colab": {
   "collapsed_sections": [],
   "name": "Appendix_B_generate.ipynb",
   "provenance": []
  },
  "kernelspec": {
   "display_name": "Python 3",
   "language": "python",
   "name": "python3"
  },
  "language_info": {
   "codemirror_mode": {
    "name": "ipython",
    "version": 3
   },
   "file_extension": ".py",
   "mimetype": "text/x-python",
   "name": "python",
   "nbconvert_exporter": "python",
   "pygments_lexer": "ipython3",
   "version": "3.8.3"
  }
 },
 "nbformat": 4,
 "nbformat_minor": 1
}

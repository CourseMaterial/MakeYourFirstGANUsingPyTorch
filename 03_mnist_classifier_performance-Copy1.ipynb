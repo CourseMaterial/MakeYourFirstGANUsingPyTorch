{
 "cells": [
  {
   "cell_type": "markdown",
   "metadata": {
    "colab_type": "text",
    "id": "DpII-qgno6EX"
   },
   "source": [
    "# First PyTorch Neural Network - MNIST Classifier\n",
    "\n",
    "Make Your First GAN With PyTorch, 2020"
   ]
  },
  {
   "cell_type": "code",
   "execution_count": 1,
   "metadata": {
    "colab": {},
    "colab_type": "code",
    "id": "7bkrfSHHAPUB"
   },
   "outputs": [],
   "source": [
    "# import libraries\n",
    "\n",
    "import torch\n",
    "import torch.nn as nn\n",
    "from torch.utils.data import Dataset\n",
    "\n",
    "import pandas\n",
    "import matplotlib.pyplot as plt\n",
    "\n",
    "import warnings\n",
    "warnings.filterwarnings(\"ignore\", category=UserWarning)"
   ]
  },
  {
   "cell_type": "markdown",
   "metadata": {
    "colab_type": "text",
    "id": "o91c-ALVmw0n"
   },
   "source": [
    "## DataSet Class"
   ]
  },
  {
   "cell_type": "code",
   "execution_count": 2,
   "metadata": {
    "colab": {},
    "colab_type": "code",
    "id": "VImRycohm3Ct"
   },
   "outputs": [],
   "source": [
    "# dataset class\n",
    "\n",
    "class MnistDataset(Dataset):\n",
    "    \n",
    "    def __init__(self, csv_file):\n",
    "        self.data_df = pandas.read_csv(csv_file, header=None)\n",
    "        pass\n",
    "    \n",
    "    def __len__(self):\n",
    "        return len(self.data_df)\n",
    "    \n",
    "    def __getitem__(self, index):\n",
    "        # image target (label)\n",
    "        label = self.data_df.iloc[index,0]\n",
    "        target = torch.zeros((26))\n",
    "        target[label] = 1.0\n",
    "        \n",
    "        # image data, normalised from 0-255 to 0-1\n",
    "        image_values = torch.FloatTensor(self.data_df.iloc[index,1:].values) / 255.0\n",
    "        \n",
    "        # return label, image data tensor and target tensor\n",
    "        return label, image_values, target\n",
    "    \n",
    "    def plot_image(self, index):\n",
    "        img = self.data_df.iloc[index,1:].values.reshape(28,28)\n",
    "        plt.title(\"label = \" + str(self.data_df.iloc[index,0]))\n",
    "        plt.imshow(img, interpolation='none', cmap='Blues')\n",
    "        pass\n",
    "    \n",
    "    pass\n"
   ]
  },
  {
   "cell_type": "markdown",
   "metadata": {
    "colab_type": "text",
    "id": "AJ_E9wgYQybx"
   },
   "source": [
    "## Load Data"
   ]
  },
  {
   "cell_type": "code",
   "execution_count": 3,
   "metadata": {
    "colab": {},
    "colab_type": "code",
    "id": "wioFGZ4mKUqj"
   },
   "outputs": [],
   "source": [
    "mnist_dataset = MnistDataset('A_Z Handwritten Data.csv')"
   ]
  },
  {
   "cell_type": "code",
   "execution_count": 4,
   "metadata": {
    "colab": {
     "base_uri": "https://localhost:8080/",
     "height": 281
    },
    "colab_type": "code",
    "id": "Bnq2wNUhLZRg",
    "outputId": "b5b64d42-aacc-403b-e599-f73ccbaa6e33"
   },
   "outputs": [
    {
     "data": {
      "image/png": "[encoded data removed]",
      "text/plain": [
       "<Figure size 432x288 with 1 Axes>"
      ]
     },
     "metadata": {
      "needs_background": "light"
     },
     "output_type": "display_data"
    }
   ],
   "source": [
    "# check data contains images\n",
    "\n",
    "mnist_dataset.plot_image(2500)"
   ]
  },
  {
   "cell_type": "code",
   "execution_count": 5,
   "metadata": {
    "colab": {},
    "colab_type": "code",
    "id": "KG5Xf_6CQ6h7"
   },
   "outputs": [
    {
     "data": {
      "text/plain": [
       "(0,\n",
       " tensor([0.0000, 0.0000, 0.0000, 0.0000, 0.0000, 0.0000, 0.0000, 0.0000, 0.0000,\n",
       "         0.0000, 0.0000, 0.0000, 0.0000, 0.0000, 0.0000, 0.0000, 0.0000, 0.0000,\n",
       "         0.0000, 0.0000, 0.0000, 0.0000, 0.0000, 0.0000, 0.0000, 0.0000, 0.0000,\n",
       "         0.0000, 0.0000, 0.0000, 0.0000, 0.0000, 0.0000, 0.0000, 0.0000, 0.0000,\n",
       "         0.0000, 0.0000, 0.0000, 0.0000, 0.0000, 0.0000, 0.0000, 0.0000, 0.0000,\n",
       "         0.0000, 0.0000, 0.0000, 0.0000, 0.0000, 0.0000, 0.0000, 0.0000, 0.0000,\n",
       "         0.0000, 0.0000, 0.0000, 0.0000, 0.0000, 0.0000, 0.0000, 0.0000, 0.0000,\n",
       "         0.0000, 0.0000, 0.0000, 0.0000, 0.0000, 0.0000, 0.0000, 0.0000, 0.0000,\n",
       "         0.0000, 0.0000, 0.0000, 0.0000, 0.0000, 0.0000, 0.0000, 0.0000, 0.0000,\n",
       "         0.0000, 0.0000, 0.0000, 0.0000, 0.0000, 0.0000, 0.0000, 0.0000, 0.0000,\n",
       "         0.0000, 0.0000, 0.0000, 0.0000, 0.0000, 0.0000, 0.0000, 0.0000, 0.0000,\n",
       "         0.0000, 0.0000, 0.0000, 0.0000, 0.0000, 0.0000, 0.0000, 0.0000, 0.0000,\n",
       "         0.0000, 0.0000, 0.0000, 0.0000, 0.0000, 0.0000, 0.0000, 0.0000, 0.0000,\n",
       "         0.0000, 0.0000, 0.0000, 0.0000, 0.0000, 0.0000, 0.0000, 0.0000, 0.0000,\n",
       "         0.0000, 0.0314, 0.3686, 0.8392, 0.6235, 0.0471, 0.0000, 0.0000, 0.0000,\n",
       "         0.0000, 0.0000, 0.0000, 0.0000, 0.0000, 0.0000, 0.0000, 0.0000, 0.0000,\n",
       "         0.0000, 0.0000, 0.0000, 0.0000, 0.0000, 0.0000, 0.0000, 0.0000, 0.0000,\n",
       "         0.0000, 0.0000, 0.2980, 0.8039, 1.0000, 0.7686, 0.2157, 0.0000, 0.0000,\n",
       "         0.0000, 0.0000, 0.0000, 0.0000, 0.0000, 0.0000, 0.0000, 0.0000, 0.0000,\n",
       "         0.0000, 0.0000, 0.0000, 0.0000, 0.0000, 0.0000, 0.0000, 0.0000, 0.0000,\n",
       "         0.0000, 0.0000, 0.1647, 0.6353, 0.9294, 0.8941, 0.8510, 0.3922, 0.0000,\n",
       "         0.0000, 0.0000, 0.0000, 0.0000, 0.0000, 0.0000, 0.0000, 0.0000, 0.0000,\n",
       "         0.0000, 0.0000, 0.0000, 0.0000, 0.0000, 0.0000, 0.0000, 0.0000, 0.0000,\n",
       "         0.0000, 0.0000, 0.0353, 0.4314, 0.8431, 0.6118, 0.5216, 0.9176, 0.5255,\n",
       "         0.0000, 0.0000, 0.0000, 0.0000, 0.0000, 0.0000, 0.0000, 0.0000, 0.0000,\n",
       "         0.0000, 0.0000, 0.0000, 0.0000, 0.0000, 0.0000, 0.0000, 0.0000, 0.0000,\n",
       "         0.0000, 0.0000, 0.0000, 0.2627, 0.7451, 0.7373, 0.2784, 0.3961, 0.9137,\n",
       "         0.6392, 0.0000, 0.0000, 0.0000, 0.0000, 0.0000, 0.0000, 0.0000, 0.0000,\n",
       "         0.0000, 0.0000, 0.0000, 0.0000, 0.0000, 0.0000, 0.0000, 0.0000, 0.0000,\n",
       "         0.0000, 0.0000, 0.0000, 0.2000, 0.6627, 0.8588, 0.4314, 0.0078, 0.3098,\n",
       "         0.8745, 0.7059, 0.0902, 0.0000, 0.0000, 0.0000, 0.0000, 0.0000, 0.0000,\n",
       "         0.0000, 0.0000, 0.0000, 0.0000, 0.0000, 0.0000, 0.0000, 0.0000, 0.0000,\n",
       "         0.0000, 0.0000, 0.0000, 0.1255, 0.6157, 0.8980, 0.5176, 0.0863, 0.0000,\n",
       "         0.2980, 0.8667, 0.7804, 0.1882, 0.0000, 0.0000, 0.0000, 0.0000, 0.0000,\n",
       "         0.0000, 0.0000, 0.0000, 0.0000, 0.0000, 0.0000, 0.0000, 0.0000, 0.0000,\n",
       "         0.0000, 0.0000, 0.0000, 0.0000, 0.3333, 0.8078, 0.6824, 0.2000, 0.0275,\n",
       "         0.2157, 0.6039, 0.9176, 0.9451, 0.7412, 0.4039, 0.0000, 0.0000, 0.0000,\n",
       "         0.0000, 0.0000, 0.0000, 0.0000, 0.0000, 0.0000, 0.0000, 0.0000, 0.0000,\n",
       "         0.0000, 0.0000, 0.0000, 0.0000, 0.1373, 0.6431, 0.8980, 0.6706, 0.6039,\n",
       "         0.8392, 0.9882, 1.0000, 1.0000, 0.9922, 0.8784, 0.4824, 0.0000, 0.0000,\n",
       "         0.0000, 0.0000, 0.0000, 0.0000, 0.0000, 0.0000, 0.0000, 0.0000, 0.0000,\n",
       "         0.0000, 0.0000, 0.0000, 0.1333, 0.2941, 0.6118, 0.9059, 1.0000, 1.0000,\n",
       "         1.0000, 1.0000, 0.8510, 0.5922, 0.6824, 0.8824, 0.4471, 0.0000, 0.0000,\n",
       "         0.0000, 0.0000, 0.0000, 0.0000, 0.0000, 0.0000, 0.0000, 0.0000, 0.0000,\n",
       "         0.0000, 0.0000, 0.0000, 0.0000, 0.5647, 0.9333, 1.0000, 1.0000, 0.8706,\n",
       "         0.5490, 0.2980, 0.1373, 0.0000, 0.0510, 0.4275, 0.8824, 0.4471, 0.0000,\n",
       "         0.0000, 0.0000, 0.0000, 0.0000, 0.0000, 0.0000, 0.0000, 0.0000, 0.0000,\n",
       "         0.0000, 0.0000, 0.0000, 0.0000, 0.0000, 0.1059, 0.6863, 0.9843, 0.6314,\n",
       "         0.1725, 0.0039, 0.0000, 0.0000, 0.0000, 0.0510, 0.4275, 0.9843, 0.6980,\n",
       "         0.0000, 0.0000, 0.0000, 0.0000, 0.0000, 0.0000, 0.0000, 0.0000, 0.0000,\n",
       "         0.0000, 0.0000, 0.0000, 0.0000, 0.0000, 0.0000, 0.4353, 0.8745, 0.9569,\n",
       "         0.4392, 0.0431, 0.0000, 0.0000, 0.0000, 0.0000, 0.0510, 0.4275, 0.9843,\n",
       "         0.7059, 0.0000, 0.0000, 0.0000, 0.0000, 0.0000, 0.0000, 0.0000, 0.0000,\n",
       "         0.0000, 0.0000, 0.0000, 0.0000, 0.0000, 0.0000, 0.1569, 0.7373, 0.9843,\n",
       "         0.7608, 0.2510, 0.0000, 0.0000, 0.0000, 0.0000, 0.0000, 0.0235, 0.3373,\n",
       "         0.9059, 0.7059, 0.0000, 0.0000, 0.0000, 0.0000, 0.0000, 0.0000, 0.0000,\n",
       "         0.0000, 0.0000, 0.0000, 0.0000, 0.0000, 0.0000, 0.0000, 0.4941, 0.9020,\n",
       "         0.6667, 0.2000, 0.0118, 0.0000, 0.0000, 0.0000, 0.0000, 0.0000, 0.0000,\n",
       "         0.2627, 0.8392, 0.7059, 0.0000, 0.0000, 0.0000, 0.0000, 0.0000, 0.0000,\n",
       "         0.0000, 0.0000, 0.0000, 0.0000, 0.0000, 0.0000, 0.0000, 0.1490, 0.7725,\n",
       "         0.6667, 0.1961, 0.0078, 0.0000, 0.0000, 0.0000, 0.0000, 0.0000, 0.0000,\n",
       "         0.0000, 0.2627, 0.8392, 0.7059, 0.0000, 0.0000, 0.0000, 0.0000, 0.0000,\n",
       "         0.0000, 0.0000, 0.0000, 0.0000, 0.0000, 0.0000, 0.0000, 0.0000, 0.4941,\n",
       "         0.6627, 0.2824, 0.0392, 0.0000, 0.0000, 0.0000, 0.0000, 0.0000, 0.0000,\n",
       "         0.0000, 0.0000, 0.2627, 0.8392, 0.7059, 0.0000, 0.0000, 0.0000, 0.0000,\n",
       "         0.0000, 0.0000, 0.0000, 0.0000, 0.0000, 0.0000, 0.0000, 0.0000, 0.0000,\n",
       "         0.0627, 0.0196, 0.0000, 0.0000, 0.0000, 0.0000, 0.0000, 0.0000, 0.0000,\n",
       "         0.0000, 0.0000, 0.0000, 0.2627, 0.8392, 0.7137, 0.0157, 0.0000, 0.0000,\n",
       "         0.0000, 0.0000, 0.0000, 0.0000, 0.0000, 0.0000, 0.0000, 0.0000, 0.0000,\n",
       "         0.0000, 0.0000, 0.0000, 0.0000, 0.0000, 0.0000, 0.0000, 0.0000, 0.0000,\n",
       "         0.0000, 0.0000, 0.0000, 0.0000, 0.1804, 0.6745, 0.8196, 0.2353, 0.0000,\n",
       "         0.0000, 0.0000, 0.0000, 0.0000, 0.0000, 0.0000, 0.0000, 0.0000, 0.0000,\n",
       "         0.0000, 0.0000, 0.0000, 0.0000, 0.0000, 0.0000, 0.0000, 0.0000, 0.0000,\n",
       "         0.0000, 0.0000, 0.0000, 0.0000, 0.0000, 0.1059, 0.5176, 0.7804, 0.1569,\n",
       "         0.0000, 0.0000, 0.0000, 0.0000, 0.0000, 0.0000, 0.0000, 0.0000, 0.0000,\n",
       "         0.0000, 0.0000, 0.0000, 0.0000, 0.0000, 0.0000, 0.0000, 0.0000, 0.0000,\n",
       "         0.0000, 0.0000, 0.0000, 0.0000, 0.0000, 0.0000, 0.0000, 0.0000, 0.0000,\n",
       "         0.0000, 0.0000, 0.0000, 0.0000, 0.0000, 0.0000, 0.0000, 0.0000, 0.0000,\n",
       "         0.0000, 0.0000, 0.0000, 0.0000, 0.0000, 0.0000, 0.0000, 0.0000, 0.0000,\n",
       "         0.0000, 0.0000, 0.0000, 0.0000, 0.0000, 0.0000, 0.0000, 0.0000, 0.0000,\n",
       "         0.0000, 0.0000, 0.0000, 0.0000, 0.0000, 0.0000, 0.0000, 0.0000, 0.0000,\n",
       "         0.0000, 0.0000, 0.0000, 0.0000, 0.0000, 0.0000, 0.0000, 0.0000, 0.0000,\n",
       "         0.0000, 0.0000, 0.0000, 0.0000, 0.0000, 0.0000, 0.0000, 0.0000, 0.0000,\n",
       "         0.0000, 0.0000, 0.0000, 0.0000, 0.0000, 0.0000, 0.0000, 0.0000, 0.0000,\n",
       "         0.0000, 0.0000, 0.0000, 0.0000, 0.0000, 0.0000, 0.0000, 0.0000, 0.0000,\n",
       "         0.0000, 0.0000, 0.0000, 0.0000, 0.0000, 0.0000, 0.0000, 0.0000, 0.0000,\n",
       "         0.0000, 0.0000, 0.0000, 0.0000, 0.0000, 0.0000, 0.0000, 0.0000, 0.0000,\n",
       "         0.0000]),\n",
       " tensor([1., 0., 0., 0., 0., 0., 0., 0., 0., 0., 0., 0., 0., 0., 0., 0., 0., 0.,\n",
       "         0., 0., 0., 0., 0., 0., 0., 0.]))"
      ]
     },
     "execution_count": 5,
     "metadata": {},
     "output_type": "execute_result"
    }
   ],
   "source": [
    "# check Dataset class can be accessed by index, returns label, image values and target tensor\n",
    "\n",
    "mnist_dataset[100]"
   ]
  },
  {
   "cell_type": "markdown",
   "metadata": {
    "colab_type": "text",
    "id": "R1VyK4VQpNYA"
   },
   "source": [
    "## Neural Network Class"
   ]
  },
  {
   "cell_type": "code",
   "execution_count": 6,
   "metadata": {
    "colab": {},
    "colab_type": "code",
    "id": "MrgKlTsRAfSk"
   },
   "outputs": [],
   "source": [
    "# classifier class\n",
    "\n",
    "class Classifier(nn.Module):\n",
    "    \n",
    "    def __init__(self):\n",
    "        # initialise parent pytorch class\n",
    "        super().__init__()\n",
    "        \n",
    "        # define neural network layers\n",
    "        # define neural network layers\n",
    "        self.model = nn.Sequential(\n",
    "            nn.Linear(784, 200),\n",
    "            nn.LeakyReLU(0.01),\n",
    "\n",
    "            nn.LayerNorm(200),\n",
    "\n",
    "            nn.Linear(200, 26),\n",
    "            nn.Sigmoid()\n",
    "        )\n",
    "        \n",
    "        # create loss function\n",
    "        self.loss_function = nn.BCELoss()\n",
    "\n",
    "        # create optimiser, using simple stochastic gradient descent\n",
    "        self.optimiser = torch.optim.Adam(self.parameters())\n",
    "\n",
    "        # counter and accumulator for progress\n",
    "        self.counter = 0\n",
    "        self.progress = []\n",
    "\n",
    "        pass\n",
    "    \n",
    "    \n",
    "    def forward(self, inputs):\n",
    "        # simply run model\n",
    "        return self.model(inputs)\n",
    "    \n",
    "    \n",
    "    def train(self, inputs, targets):\n",
    "        # calculate the output of the network\n",
    "        outputs = self.forward(inputs)\n",
    "        # calculate loss\n",
    "        loss = self.loss_function(outputs, targets)\n",
    "\n",
    "        # increase counter and accumulate error every 10\n",
    "        self.counter += 1\n",
    "        if (self.counter % 10 == 0):\n",
    "            self.progress.append(loss.item())\n",
    "            pass\n",
    "        if (self.counter % 10000 == 0):\n",
    "            print(\"counter = \", self.counter)\n",
    "            pass\n",
    "\n",
    "        # zero gradients, perform a backward pass, and update the weights\n",
    "        self.optimiser.zero_grad()\n",
    "        loss.backward()\n",
    "        self.optimiser.step()\n",
    "\n",
    "        pass\n",
    "    \n",
    "    \n",
    "    def plot_progress(self):\n",
    "        df = pandas.DataFrame(self.progress, columns=['loss'])\n",
    "        df.plot(ylim=(0, 1.0), figsize=(16,8), alpha=0.1, marker='.', grid=True, yticks=(0, 0.25, 0.5))\n",
    "        pass\n",
    "    \n",
    "    pass"
   ]
  },
  {
   "cell_type": "code",
   "execution_count": 7,
   "metadata": {},
   "outputs": [
    {
     "name": "stdout",
     "output_type": "stream",
     "text": [
      "True\n",
      "True\n",
      "True\n",
      "True\n",
      "True\n",
      "True\n",
      "True\n",
      "False\n",
      "0\n"
     ]
    }
   ],
   "source": [
    "C = Classifier()\n",
    "\n",
    "## model\n",
    "print(C.model[0].in_features == 784) \n",
    "print(C.model[0].out_features == 200)\n",
    "\n",
    "\n",
    "print(str(C.model[1])==\"LeakyReLU(negative_slope=0.01)\")\n",
    "print(str(C.model[2]) ==\"LayerNorm((200,), eps=1e-05, elementwise_affine=True)\")\n",
    "\n",
    "\n",
    "print(C.model[3].in_features == 200)\n",
    "print(C.model[3].out_features == 26)\n",
    "print(str(C.model[4]) == \"Sigmoid()\")\n",
    "\n",
    "\n",
    "print(str(C.loss_function)==\"MSELoss()\")\n",
    "print(str(C.optimiser).find(\"Adam\"))"
   ]
  },
  {
   "cell_type": "markdown",
   "metadata": {
    "colab_type": "text",
    "id": "cwGBnd4xSLBL"
   },
   "source": [
    "## Train Neural Network"
   ]
  },
  {
   "cell_type": "code",
   "execution_count": 8,
   "metadata": {
    "colab": {
     "base_uri": "https://localhost:8080/",
     "height": 527
    },
    "colab_type": "code",
    "id": "VLS3pXEevWq9",
    "outputId": "b416bcc9-4268-49a6-d7ad-3a4139228d47"
   },
   "outputs": [
    {
     "name": "stdout",
     "output_type": "stream",
     "text": [
      "training epoch 1 of 5\n",
      "counter =  10000\n",
      "counter =  20000\n",
      "counter =  30000\n",
      "counter =  40000\n",
      "counter =  50000\n",
      "counter =  60000\n",
      "counter =  70000\n",
      "counter =  80000\n",
      "counter =  90000\n",
      "counter =  100000\n",
      "counter =  110000\n",
      "counter =  120000\n",
      "counter =  130000\n",
      "counter =  140000\n",
      "counter =  150000\n",
      "counter =  160000\n",
      "counter =  170000\n",
      "counter =  180000\n",
      "counter =  190000\n",
      "counter =  200000\n",
      "counter =  210000\n",
      "counter =  220000\n",
      "counter =  230000\n",
      "counter =  240000\n",
      "counter =  250000\n",
      "counter =  260000\n",
      "counter =  270000\n",
      "counter =  280000\n",
      "counter =  290000\n",
      "counter =  300000\n",
      "counter =  310000\n",
      "counter =  320000\n",
      "counter =  330000\n",
      "counter =  340000\n",
      "counter =  350000\n",
      "counter =  360000\n",
      "counter =  370000\n",
      "training epoch 2 of 5\n",
      "counter =  380000\n",
      "counter =  390000\n",
      "counter =  400000\n",
      "counter =  410000\n",
      "counter =  420000\n",
      "counter =  430000\n",
      "counter =  440000\n",
      "counter =  450000\n",
      "counter =  460000\n",
      "counter =  470000\n",
      "counter =  480000\n",
      "counter =  490000\n",
      "counter =  500000\n",
      "counter =  510000\n",
      "counter =  520000\n",
      "counter =  530000\n",
      "counter =  540000\n",
      "counter =  550000\n",
      "counter =  560000\n",
      "counter =  570000\n",
      "counter =  580000\n",
      "counter =  590000\n",
      "counter =  600000\n",
      "counter =  610000\n",
      "counter =  620000\n",
      "counter =  630000\n",
      "counter =  640000\n",
      "counter =  650000\n",
      "counter =  660000\n",
      "counter =  670000\n",
      "counter =  680000\n",
      "counter =  690000\n",
      "counter =  700000\n",
      "counter =  710000\n",
      "counter =  720000\n",
      "counter =  730000\n",
      "counter =  740000\n",
      "training epoch 3 of 5\n",
      "counter =  750000\n",
      "counter =  760000\n",
      "counter =  770000\n",
      "counter =  780000\n",
      "counter =  790000\n",
      "counter =  800000\n",
      "counter =  810000\n",
      "counter =  820000\n",
      "counter =  830000\n",
      "counter =  840000\n",
      "counter =  850000\n",
      "counter =  860000\n",
      "counter =  870000\n",
      "counter =  880000\n",
      "counter =  890000\n",
      "counter =  900000\n",
      "counter =  910000\n",
      "counter =  920000\n",
      "counter =  930000\n",
      "counter =  940000\n",
      "counter =  950000\n",
      "counter =  960000\n",
      "counter =  970000\n",
      "counter =  980000\n",
      "counter =  990000\n",
      "counter =  1000000\n",
      "counter =  1010000\n",
      "counter =  1020000\n",
      "counter =  1030000\n",
      "counter =  1040000\n",
      "counter =  1050000\n",
      "counter =  1060000\n",
      "counter =  1070000\n",
      "counter =  1080000\n",
      "counter =  1090000\n",
      "counter =  1100000\n",
      "counter =  1110000\n",
      "training epoch 4 of 5\n",
      "counter =  1120000\n",
      "counter =  1130000\n",
      "counter =  1140000\n",
      "counter =  1150000\n",
      "counter =  1160000\n",
      "counter =  1170000\n",
      "counter =  1180000\n",
      "counter =  1190000\n",
      "counter =  1200000\n",
      "counter =  1210000\n",
      "counter =  1220000\n",
      "counter =  1230000\n",
      "counter =  1240000\n",
      "counter =  1250000\n",
      "counter =  1260000\n",
      "counter =  1270000\n",
      "counter =  1280000\n",
      "counter =  1290000\n",
      "counter =  1300000\n",
      "counter =  1310000\n",
      "counter =  1320000\n",
      "counter =  1330000\n",
      "counter =  1340000\n",
      "counter =  1350000\n",
      "counter =  1360000\n",
      "counter =  1370000\n",
      "counter =  1380000\n",
      "counter =  1390000\n",
      "counter =  1400000\n",
      "counter =  1410000\n",
      "counter =  1420000\n",
      "counter =  1430000\n",
      "counter =  1440000\n",
      "counter =  1450000\n",
      "counter =  1460000\n",
      "counter =  1470000\n",
      "counter =  1480000\n",
      "training epoch 5 of 5\n",
      "counter =  1490000\n",
      "counter =  1500000\n",
      "counter =  1510000\n",
      "counter =  1520000\n",
      "counter =  1530000\n",
      "counter =  1540000\n",
      "counter =  1550000\n",
      "counter =  1560000\n",
      "counter =  1570000\n",
      "counter =  1580000\n",
      "counter =  1590000\n",
      "counter =  1600000\n",
      "counter =  1610000\n",
      "counter =  1620000\n",
      "counter =  1630000\n",
      "counter =  1640000\n",
      "counter =  1650000\n",
      "counter =  1660000\n",
      "counter =  1670000\n",
      "counter =  1680000\n",
      "counter =  1690000\n",
      "counter =  1700000\n",
      "counter =  1710000\n",
      "counter =  1720000\n",
      "counter =  1730000\n",
      "counter =  1740000\n",
      "counter =  1750000\n",
      "counter =  1760000\n",
      "counter =  1770000\n",
      "counter =  1780000\n",
      "counter =  1790000\n",
      "counter =  1800000\n",
      "counter =  1810000\n",
      "counter =  1820000\n",
      "counter =  1830000\n",
      "counter =  1840000\n",
      "counter =  1850000\n",
      "counter =  1860000\n",
      "CPU times: user 2h 27min 59s, sys: 11min 22s, total: 2h 39min 22s\n",
      "Wall time: 1h 29min 24s\n"
     ]
    }
   ],
   "source": [
    "%%time \n",
    "# create neural network\n",
    "\n",
    "C = Classifier()\n",
    "\n",
    "# train network on MNIST data set\n",
    "\n",
    "epochs = 5\n",
    "\n",
    "for i in range(epochs):\n",
    "    print('training epoch', i+1, \"of\", epochs)\n",
    "    for label, image_data_tensor, target_tensor in mnist_dataset:\n",
    "        C.train(image_data_tensor, target_tensor)\n",
    "        pass\n",
    "    pass"
   ]
  },
  {
   "cell_type": "code",
   "execution_count": 9,
   "metadata": {
    "colab": {
     "base_uri": "https://localhost:8080/",
     "height": 483
    },
    "colab_type": "code",
    "id": "G046xt9ySheM",
    "outputId": "4641693c-fced-48a5-fdf5-f4d2aadb03f5"
   },
   "outputs": [
    {
     "data": {
      "image/png": "[encoded data removed]",
      "text/plain": [
       "<Figure size 1152x576 with 1 Axes>"
      ]
     },
     "metadata": {
      "needs_background": "light"
     },
     "output_type": "display_data"
    }
   ],
   "source": [
    "# plot classifier error\n",
    "\n",
    "C.plot_progress()"
   ]
  },
  {
   "cell_type": "markdown",
   "metadata": {
    "colab_type": "text",
    "id": "Sv7R988-4pCv"
   },
   "source": [
    "## Classification Example"
   ]
  },
  {
   "cell_type": "code",
   "execution_count": 10,
   "metadata": {
    "colab": {},
    "colab_type": "code",
    "id": "Tfi78c5XTLD3"
   },
   "outputs": [],
   "source": [
    "# load MNIST test data\n",
    "\n",
    "mnist_test_dataset = MnistDataset('A_Z Handwritten Data.csv')"
   ]
  },
  {
   "cell_type": "code",
   "execution_count": 15,
   "metadata": {
    "colab": {
     "base_uri": "https://localhost:8080/",
     "height": 281
    },
    "colab_type": "code",
    "id": "cdQCvzor-QWx",
    "outputId": "7bd211b9-c41e-4415-d728-8879f9567f84"
   },
   "outputs": [
    {
     "data": {
      "image/png": "[encoded data removed]",
      "text/plain": [
       "<Figure size 432x288 with 1 Axes>"
      ]
     },
     "metadata": {
      "needs_background": "light"
     },
     "output_type": "display_data"
    }
   ],
   "source": [
    "# pick a record\n",
    "record = 18\n",
    "\n",
    "# plot image and correct label\n",
    "mnist_test_dataset.plot_image(record)"
   ]
  },
  {
   "cell_type": "code",
   "execution_count": 16,
   "metadata": {
    "colab": {
     "base_uri": "https://localhost:8080/",
     "height": 283
    },
    "colab_type": "code",
    "id": "CqZmjoqs-iJH",
    "outputId": "228cf568-36cd-4b71-ed67-3a1129982886"
   },
   "outputs": [
    {
     "name": "stdout",
     "output_type": "stream",
     "text": [
      "tensor([0.0000, 0.0000, 0.0000, 0.0000, 0.0000, 0.0000, 0.0000, 0.0000, 0.0000,\n",
      "        0.0000, 0.0000, 0.0000, 0.0000, 0.0000, 0.0000, 0.0000, 0.0000, 0.0000,\n",
      "        0.0000, 0.0000, 0.0000, 0.0000, 0.0000, 0.0000, 0.0000, 0.0000, 0.0000,\n",
      "        0.0000, 0.0000, 0.0000, 0.0000, 0.0000, 0.0000, 0.0000, 0.0000, 0.0000,\n",
      "        0.0000, 0.0000, 0.0000, 0.0000, 0.0000, 0.0000, 0.0000, 0.0000, 0.0000,\n",
      "        0.0000, 0.0000, 0.0000, 0.0000, 0.0000, 0.0000, 0.0000, 0.0000, 0.0000,\n",
      "        0.0000, 0.0000, 0.0000, 0.0000, 0.0000, 0.0000, 0.0000, 0.0000, 0.0000,\n",
      "        0.0000, 0.0000, 0.0000, 0.0000, 0.0000, 0.0000, 0.0000, 0.0000, 0.0000,\n",
      "        0.0000, 0.0000, 0.0000, 0.0000, 0.0000, 0.0000, 0.0000, 0.0000, 0.0000,\n",
      "        0.0000, 0.0000, 0.0000, 0.0000, 0.0000, 0.0000, 0.0000, 0.0000, 0.0000,\n",
      "        0.0000, 0.0000, 0.0000, 0.0000, 0.0000, 0.0000, 0.0000, 0.0000, 0.0000,\n",
      "        0.0000, 0.0000, 0.0000, 0.0000, 0.0000, 0.0000, 0.0000, 0.0000, 0.0000,\n",
      "        0.0000, 0.0000, 0.0000, 0.0000, 0.0000, 0.0000, 0.0000, 0.0000, 0.0000,\n",
      "        0.0000, 0.0000, 0.0000, 0.0000, 0.0000, 0.0000, 0.0000, 0.0000, 0.0000,\n",
      "        0.0000, 0.0000, 0.1216, 0.5529, 0.9686, 0.7176, 0.1529, 0.0000, 0.0000,\n",
      "        0.0000, 0.0000, 0.0000, 0.0000, 0.0000, 0.0000, 0.0000, 0.0000, 0.0000,\n",
      "        0.0000, 0.0000, 0.0000, 0.0000, 0.0000, 0.0000, 0.0000, 0.0000, 0.0000,\n",
      "        0.0000, 0.0000, 0.0392, 0.4000, 0.9098, 1.0000, 0.8588, 0.3882, 0.0000,\n",
      "        0.0000, 0.0000, 0.0000, 0.0000, 0.0000, 0.0000, 0.0000, 0.0000, 0.0000,\n",
      "        0.0000, 0.0000, 0.0000, 0.0000, 0.0000, 0.0000, 0.0000, 0.0000, 0.0000,\n",
      "        0.0000, 0.0000, 0.0000, 0.2471, 0.7333, 1.0000, 1.0000, 0.8588, 0.3882,\n",
      "        0.0000, 0.0000, 0.0000, 0.0000, 0.0000, 0.0000, 0.0000, 0.0000, 0.0000,\n",
      "        0.0000, 0.0000, 0.0000, 0.0000, 0.0000, 0.0000, 0.0000, 0.0000, 0.0000,\n",
      "        0.0000, 0.0000, 0.0000, 0.1176, 0.5529, 0.9647, 1.0000, 0.9765, 0.7098,\n",
      "        0.1373, 0.0000, 0.0000, 0.0000, 0.0000, 0.0000, 0.0000, 0.0000, 0.0000,\n",
      "        0.0000, 0.0000, 0.0000, 0.0000, 0.0000, 0.0000, 0.0000, 0.0000, 0.0000,\n",
      "        0.0000, 0.0000, 0.0000, 0.0275, 0.4431, 0.8667, 0.8196, 0.8431, 1.0000,\n",
      "        0.7529, 0.1216, 0.0000, 0.0000, 0.0000, 0.0000, 0.0000, 0.0000, 0.0000,\n",
      "        0.0000, 0.0000, 0.0000, 0.0000, 0.0000, 0.0000, 0.0000, 0.0000, 0.0000,\n",
      "        0.0000, 0.0000, 0.0000, 0.0314, 0.4275, 0.8784, 0.8314, 0.4588, 0.5059,\n",
      "        0.8745, 0.5137, 0.1373, 0.0000, 0.0000, 0.0000, 0.0000, 0.0000, 0.0000,\n",
      "        0.0000, 0.0000, 0.0000, 0.0000, 0.0000, 0.0000, 0.0000, 0.0000, 0.0000,\n",
      "        0.0000, 0.0000, 0.0000, 0.0000, 0.4118, 0.8745, 0.9922, 0.7059, 0.2431,\n",
      "        0.4000, 0.9451, 0.7176, 0.2196, 0.0000, 0.0000, 0.0000, 0.0000, 0.0000,\n",
      "        0.0000, 0.0000, 0.0000, 0.0000, 0.0000, 0.0000, 0.0000, 0.0000, 0.0000,\n",
      "        0.0000, 0.0000, 0.0000, 0.0000, 0.2706, 0.7529, 0.9961, 0.7882, 0.3098,\n",
      "        0.1294, 0.5686, 0.9922, 0.8157, 0.3294, 0.0000, 0.0000, 0.0000, 0.0000,\n",
      "        0.0000, 0.0000, 0.0000, 0.0000, 0.0000, 0.0000, 0.0000, 0.0000, 0.0000,\n",
      "        0.0000, 0.0000, 0.0000, 0.0000, 0.0157, 0.5922, 0.9922, 0.8118, 0.3843,\n",
      "        0.0667, 0.1294, 0.5686, 0.9608, 0.6353, 0.0431, 0.0000, 0.0000, 0.0000,\n",
      "        0.0000, 0.0000, 0.0000, 0.0000, 0.0000, 0.0000, 0.0000, 0.0000, 0.0000,\n",
      "        0.0000, 0.0000, 0.0000, 0.0000, 0.0000, 0.3686, 0.8314, 0.9569, 0.4941,\n",
      "        0.0471, 0.0000, 0.0824, 0.4902, 0.9255, 0.5725, 0.0000, 0.0000, 0.0000,\n",
      "        0.0000, 0.0000, 0.0000, 0.0000, 0.0000, 0.0000, 0.0000, 0.0000, 0.0000,\n",
      "        0.0000, 0.0000, 0.0000, 0.0000, 0.0000, 0.0941, 0.6824, 1.0000, 0.4902,\n",
      "        0.0392, 0.0000, 0.0000, 0.0000, 0.3529, 0.9725, 0.7843, 0.1961, 0.0000,\n",
      "        0.0000, 0.0000, 0.0000, 0.0000, 0.0000, 0.0000, 0.0000, 0.0000, 0.0000,\n",
      "        0.0000, 0.0000, 0.0000, 0.0000, 0.0000, 0.0431, 0.5961, 0.9490, 0.9216,\n",
      "        0.4235, 0.0314, 0.0078, 0.1647, 0.4392, 0.7255, 0.9882, 0.8902, 0.4941,\n",
      "        0.0980, 0.0000, 0.0000, 0.0000, 0.0000, 0.0000, 0.0000, 0.0000, 0.0000,\n",
      "        0.0000, 0.0000, 0.0000, 0.0000, 0.0000, 0.0157, 0.4392, 0.8706, 1.0000,\n",
      "        0.4706, 0.2392, 0.4275, 0.6431, 0.8863, 1.0000, 1.0000, 1.0000, 1.0000,\n",
      "        0.9843, 0.8157, 0.3059, 0.0000, 0.0000, 0.0000, 0.0000, 0.0000, 0.0000,\n",
      "        0.0000, 0.0000, 0.0000, 0.0000, 0.0000, 0.0000, 0.2549, 0.8078, 1.0000,\n",
      "        0.8941, 0.6706, 0.8039, 0.9922, 0.9843, 0.8392, 0.6275, 0.7137, 0.9725,\n",
      "        0.9882, 0.8118, 0.3059, 0.0510, 0.0000, 0.0000, 0.0000, 0.0000, 0.0000,\n",
      "        0.0000, 0.0000, 0.0000, 0.0000, 0.0000, 0.0000, 0.2275, 0.7882, 0.9882,\n",
      "        0.9804, 0.4157, 0.1451, 0.4196, 0.4510, 0.2667, 0.3412, 0.3333, 0.2078,\n",
      "        0.5686, 0.8588, 0.3882, 0.0000, 0.0000, 0.0000, 0.0000, 0.0000, 0.0000,\n",
      "        0.0000, 0.0000, 0.0000, 0.0000, 0.0000, 0.0000, 0.2353, 0.8235, 0.9922,\n",
      "        0.9765, 0.6941, 0.2078, 0.0000, 0.0000, 0.0000, 0.0000, 0.0039, 0.2784,\n",
      "        0.6471, 0.7373, 1.0000, 0.8588, 0.3529, 0.0000, 0.0000, 0.0000, 0.0000,\n",
      "        0.0000, 0.0000, 0.0000, 0.0000, 0.0000, 0.0000, 0.0000, 0.7333, 0.9765,\n",
      "        0.9725, 0.6902, 0.1922, 0.0000, 0.0000, 0.0000, 0.0000, 0.0000, 0.0000,\n",
      "        0.0667, 0.3882, 0.8471, 1.0000, 0.9098, 0.5137, 0.0000, 0.0000, 0.0000,\n",
      "        0.0000, 0.0000, 0.0000, 0.0000, 0.0000, 0.0000, 0.0000, 0.0000, 0.1608,\n",
      "        0.4941, 0.3961, 0.0980, 0.0000, 0.0000, 0.0000, 0.0000, 0.0000, 0.0000,\n",
      "        0.0000, 0.0000, 0.0667, 0.4157, 0.9294, 0.9922, 0.7961, 0.1608, 0.0000,\n",
      "        0.0000, 0.0000, 0.0000, 0.0000, 0.0000, 0.0000, 0.0000, 0.0000, 0.0000,\n",
      "        0.0000, 0.0000, 0.0000, 0.0000, 0.0000, 0.0000, 0.0000, 0.0000, 0.0000,\n",
      "        0.0000, 0.0000, 0.0000, 0.0000, 0.0627, 0.3961, 0.9255, 0.9529, 0.6471,\n",
      "        0.0000, 0.0000, 0.0000, 0.0000, 0.0000, 0.0000, 0.0000, 0.0000, 0.0000,\n",
      "        0.0000, 0.0000, 0.0000, 0.0000, 0.0000, 0.0000, 0.0000, 0.0000, 0.0000,\n",
      "        0.0000, 0.0000, 0.0000, 0.0000, 0.0000, 0.0000, 0.0902, 0.4275, 0.7137,\n",
      "        0.4235, 0.0000, 0.0000, 0.0000, 0.0000, 0.0000, 0.0000, 0.0000, 0.0000,\n",
      "        0.0000, 0.0000, 0.0000, 0.0000, 0.0000, 0.0000, 0.0000, 0.0000, 0.0000,\n",
      "        0.0000, 0.0000, 0.0000, 0.0000, 0.0000, 0.0000, 0.0000, 0.0000, 0.0000,\n",
      "        0.0000, 0.0000, 0.0000, 0.0000, 0.0000, 0.0000, 0.0000, 0.0000, 0.0000,\n",
      "        0.0000, 0.0000, 0.0000, 0.0000, 0.0000, 0.0000, 0.0000, 0.0000, 0.0000,\n",
      "        0.0000, 0.0000, 0.0000, 0.0000, 0.0000, 0.0000, 0.0000, 0.0000, 0.0000,\n",
      "        0.0000, 0.0000, 0.0000, 0.0000, 0.0000, 0.0000, 0.0000, 0.0000, 0.0000,\n",
      "        0.0000, 0.0000, 0.0000, 0.0000, 0.0000, 0.0000, 0.0000, 0.0000, 0.0000,\n",
      "        0.0000, 0.0000, 0.0000, 0.0000, 0.0000, 0.0000, 0.0000, 0.0000, 0.0000,\n",
      "        0.0000, 0.0000, 0.0000, 0.0000, 0.0000, 0.0000, 0.0000, 0.0000, 0.0000,\n",
      "        0.0000, 0.0000, 0.0000, 0.0000, 0.0000, 0.0000, 0.0000, 0.0000, 0.0000,\n",
      "        0.0000, 0.0000, 0.0000, 0.0000, 0.0000, 0.0000, 0.0000, 0.0000, 0.0000,\n",
      "        0.0000, 0.0000, 0.0000, 0.0000, 0.0000, 0.0000, 0.0000, 0.0000, 0.0000,\n",
      "        0.0000])\n",
      "tensor([6.9512e-09, 1.2984e-09, 4.5622e-10, 4.2417e-10, 2.1922e-10, 6.8875e-11,\n",
      "        1.2945e-09, 1.2150e-08, 5.5605e-10, 8.7495e-10, 5.8948e-09, 3.0115e-11,\n",
      "        2.9663e-10, 1.5987e-09, 1.3335e-10, 1.1498e-09, 7.8127e-10, 2.8278e-09,\n",
      "        1.4262e-11, 6.5515e-11, 1.0000e+00, 1.5191e-09, 6.1527e-09, 4.0567e-08,\n",
      "        1.0836e-05, 9.9995e-01], grad_fn=<SigmoidBackward>)\n"
     ]
    },
    {
     "data": {
      "text/plain": [
       "<matplotlib.axes._subplots.AxesSubplot at 0x137287e50>"
      ]
     },
     "execution_count": 16,
     "metadata": {},
     "output_type": "execute_result"
    },
    {
     "data": {
      "image/png": "[encoded data removed]",
      "text/plain": [
       "<Figure size 432x288 with 1 Axes>"
      ]
     },
     "metadata": {
      "needs_background": "light"
     },
     "output_type": "display_data"
    }
   ],
   "source": [
    "# visualise the answer given by the neural network\n",
    "\n",
    "image_data = mnist_test_dataset[record][1]\n",
    "print(image_data)\n",
    "# query from trained network\n",
    "output = C.forward(image_data)\n",
    "print(output)\n",
    "# plot output tensor\n",
    "pandas.DataFrame(output.detach().numpy()).plot(kind='bar', legend=False, ylim=(0,1))"
   ]
  },
  {
   "cell_type": "markdown",
   "metadata": {
    "colab_type": "text",
    "id": "yYobxR3rMne7"
   },
   "source": [
    "## Classifier Performance"
   ]
  },
  {
   "cell_type": "code",
   "execution_count": 17,
   "metadata": {
    "colab": {
     "base_uri": "https://localhost:8080/",
     "height": 34
    },
    "colab_type": "code",
    "id": "dkcHXgffGcKn",
    "outputId": "9e5511b4-8a69-4eba-c2cb-0331433ce9e1"
   },
   "outputs": [
    {
     "name": "stdout",
     "output_type": "stream",
     "text": [
      "29008 372451 0.07788407065627424\n"
     ]
    }
   ],
   "source": [
    "# test trained neural network on training data\n",
    "\n",
    "score = 0\n",
    "items = 0\n",
    "\n",
    "for label, image_data_tensor, target_tensor in mnist_test_dataset:\n",
    "    answer = C.forward(image_data_tensor).detach().numpy()\n",
    "    if (answer.argmax() == label):\n",
    "        score += 1\n",
    "        pass\n",
    "    items += 1\n",
    "    \n",
    "    pass\n",
    "\n",
    "print(score, items, score/items)"
   ]
  },
  {
   "cell_type": "code",
   "execution_count": null,
   "metadata": {},
   "outputs": [],
   "source": []
  }
 ],
 "metadata": {
  "colab": {
   "collapsed_sections": [],
   "name": "03_mnist_classifier.ipynb",
   "provenance": []
  },
  "kernelspec": {
   "display_name": "Python 3",
   "language": "python",
   "name": "python3"
  },
  "language_info": {
   "codemirror_mode": {
    "name": "ipython",
    "version": 3
   },
   "file_extension": ".py",
   "mimetype": "text/x-python",
   "name": "python",
   "nbconvert_exporter": "python",
   "pygments_lexer": "ipython3",
   "version": "3.8.3"
  }
 },
 "nbformat": 4,
 "nbformat_minor": 1
}
